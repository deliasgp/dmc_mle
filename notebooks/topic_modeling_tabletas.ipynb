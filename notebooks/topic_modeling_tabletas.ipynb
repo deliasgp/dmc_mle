{
  "nbformat": 4,
  "nbformat_minor": 0,
  "metadata": {
    "colab": {
      "provenance": [],
      "toc_visible": true
    },
    "kernelspec": {
      "name": "python3",
      "display_name": "Python 3"
    },
    "language_info": {
      "name": "python"
    }
  },
  "cells": [
    {
      "cell_type": "code",
      "source": [
        "%%capture\n",
        "!pip install -U spacy\n",
        "!python -m spacy download es_core_news_sm\n",
        "!pip install pyspellchecker"
      ],
      "metadata": {
        "id": "JbTkB9_hhFav"
      },
      "execution_count": 1,
      "outputs": []
    },
    {
      "cell_type": "code",
      "execution_count": 2,
      "metadata": {
        "id": "qCwdbIfcVot0",
        "colab": {
          "base_uri": "https://localhost:8080/"
        },
        "outputId": "e6679fd2-97a7-46ca-e599-8fad4a407a41"
      },
      "outputs": [
        {
          "output_type": "stream",
          "name": "stderr",
          "text": [
            "[nltk_data] Downloading package punkt to /root/nltk_data...\n",
            "[nltk_data]   Unzipping tokenizers/punkt.zip.\n"
          ]
        },
        {
          "output_type": "stream",
          "name": "stdout",
          "text": [
            "Cloning into 'nlp_use'...\n",
            "remote: Enumerating objects: 49, done.\u001b[K\n",
            "remote: Counting objects: 100% (49/49), done.\u001b[K\n",
            "remote: Compressing objects: 100% (44/44), done.\u001b[K\n",
            "remote: Total 49 (delta 22), reused 0 (delta 0), pack-reused 0\u001b[K\n",
            "Unpacking objects: 100% (49/49), 881.11 KiB | 2.06 MiB/s, done.\n",
            "/content/nlp_use\n"
          ]
        },
        {
          "output_type": "stream",
          "name": "stderr",
          "text": [
            "[nltk_data] Downloading package stopwords to /root/nltk_data...\n",
            "[nltk_data]   Unzipping corpora/stopwords.zip.\n"
          ]
        }
      ],
      "source": [
        "import pandas as pd\n",
        "import numpy as np\n",
        "import gensim\n",
        "import nltk\n",
        "nltk.download('punkt')\n",
        "!git clone https://github.com/deliasgp/nlp_use.git\n",
        "%cd nlp_use/\n",
        "import normalizar_texto as nt"
      ]
    },
    {
      "cell_type": "markdown",
      "source": [
        "# Introducción\n",
        "La propuesta contempla los siguientes algoritmos.\n",
        "\n",
        "\n",
        "1.   Clasificación sobre de comentarios que indiquen 'ninguna observacion' \n",
        "2.   Topic módeling de los comentarios no clasificados como ninguna 'observación'\n",
        "\n"
      ],
      "metadata": {
        "id": "fF10xH2VmMbJ"
      }
    },
    {
      "cell_type": "code",
      "source": [
        "obs_dir = '/content/drive/MyDrive/dgavidia_minedu/BD USE/NLP/TABLETAS/Output/clasificacion visual/20230104/obs_recepcion_20230104.xlsx'\n",
        "datos = pd.read_excel(obs_dir)"
      ],
      "metadata": {
        "id": "w1io-kfxUNgM"
      },
      "execution_count": 3,
      "outputs": []
    },
    {
      "cell_type": "code",
      "source": [
        "stopword_list = nltk.corpus.stopwords.words('spanish')\n",
        "stop_words_tablets = nt.stop_words_use(local_file=False,maindir='') + stopword_list + ['estudiante','padre','madre','padres','madres']"
      ],
      "metadata": {
        "id": "VPSUVHgkmert"
      },
      "execution_count": 4,
      "outputs": []
    },
    {
      "cell_type": "code",
      "source": [
        "eliminar_stop_words = ['no','si','solo','se']\n",
        "for word in eliminar_stop_words:\n",
        "    if word in stop_words_tablets:\n",
        "        stop_words_tablets.remove(word)"
      ],
      "metadata": {
        "id": "53tpTXyIvsqG"
      },
      "execution_count": 5,
      "outputs": []
    },
    {
      "cell_type": "code",
      "source": [
        "datos.head(10)"
      ],
      "metadata": {
        "colab": {
          "base_uri": "https://localhost:8080/",
          "height": 670
        },
        "id": "HjRrnkjRmr6u",
        "outputId": "3e606f98-5b90-477c-e77b-514e815a91ed"
      },
      "execution_count": 6,
      "outputs": [
        {
          "output_type": "execute_result",
          "data": {
            "text/plain": [
              "   Número  CODIGO_MODULAR                              OBSERVACION_RECEPCION  \\\n",
              "0    4141         1324920                       SOLO LLEGÓ UN CARGADOR SOLAR   \n",
              "1    4661         1562008  LA TABLET CON CODIGO Q10L2102382003 LLEGO SIN ...   \n",
              "2    2574          602441                               FALTA CARGADOR SOLAR   \n",
              "3    5094          380410  Solo llegó una tableta que es insuficiente  pa...   \n",
              "4    1224          379024  FALTO PARA DOS ALUMNOS UNO PARA QUINTO GRADO Y...   \n",
              "5    1223          378836  Se requiere el incremento para los estudiantes...   \n",
              "6    4659         1559046  No llegaron la cantidad de tabletas para todos...   \n",
              "7    2577          606590  Los cargadores solares llegaron en cantidades ...   \n",
              "8    1220          378638  Faltan 3 tabletas para estudiantes y 1 tableta...   \n",
              "9    2578          606970  FALTO 3 ESTUDIANTE DE CUARTO GRADO DE PRIMARIA...   \n",
              "\n",
              "   flg_cat  flg_bin  flg_motivo  flg_nombre  \n",
              "0        1        0           0           0  \n",
              "1        1        0           0           0  \n",
              "2        1        0           0           0  \n",
              "3        1        0           1           0  \n",
              "4        1        0           0           0  \n",
              "5        1        0           0           0  \n",
              "6        1        0           0           0  \n",
              "7        1        0           1           0  \n",
              "8        1        0           0           0  \n",
              "9        1        0           0           0  "
            ],
            "text/html": [
              "\n",
              "  <div id=\"df-cb8ff6ea-91b8-42ad-950f-08884b1d2fb2\">\n",
              "    <div class=\"colab-df-container\">\n",
              "      <div>\n",
              "<style scoped>\n",
              "    .dataframe tbody tr th:only-of-type {\n",
              "        vertical-align: middle;\n",
              "    }\n",
              "\n",
              "    .dataframe tbody tr th {\n",
              "        vertical-align: top;\n",
              "    }\n",
              "\n",
              "    .dataframe thead th {\n",
              "        text-align: right;\n",
              "    }\n",
              "</style>\n",
              "<table border=\"1\" class=\"dataframe\">\n",
              "  <thead>\n",
              "    <tr style=\"text-align: right;\">\n",
              "      <th></th>\n",
              "      <th>Número</th>\n",
              "      <th>CODIGO_MODULAR</th>\n",
              "      <th>OBSERVACION_RECEPCION</th>\n",
              "      <th>flg_cat</th>\n",
              "      <th>flg_bin</th>\n",
              "      <th>flg_motivo</th>\n",
              "      <th>flg_nombre</th>\n",
              "    </tr>\n",
              "  </thead>\n",
              "  <tbody>\n",
              "    <tr>\n",
              "      <th>0</th>\n",
              "      <td>4141</td>\n",
              "      <td>1324920</td>\n",
              "      <td>SOLO LLEGÓ UN CARGADOR SOLAR</td>\n",
              "      <td>1</td>\n",
              "      <td>0</td>\n",
              "      <td>0</td>\n",
              "      <td>0</td>\n",
              "    </tr>\n",
              "    <tr>\n",
              "      <th>1</th>\n",
              "      <td>4661</td>\n",
              "      <td>1562008</td>\n",
              "      <td>LA TABLET CON CODIGO Q10L2102382003 LLEGO SIN ...</td>\n",
              "      <td>1</td>\n",
              "      <td>0</td>\n",
              "      <td>0</td>\n",
              "      <td>0</td>\n",
              "    </tr>\n",
              "    <tr>\n",
              "      <th>2</th>\n",
              "      <td>2574</td>\n",
              "      <td>602441</td>\n",
              "      <td>FALTA CARGADOR SOLAR</td>\n",
              "      <td>1</td>\n",
              "      <td>0</td>\n",
              "      <td>0</td>\n",
              "      <td>0</td>\n",
              "    </tr>\n",
              "    <tr>\n",
              "      <th>3</th>\n",
              "      <td>5094</td>\n",
              "      <td>380410</td>\n",
              "      <td>Solo llegó una tableta que es insuficiente  pa...</td>\n",
              "      <td>1</td>\n",
              "      <td>0</td>\n",
              "      <td>1</td>\n",
              "      <td>0</td>\n",
              "    </tr>\n",
              "    <tr>\n",
              "      <th>4</th>\n",
              "      <td>1224</td>\n",
              "      <td>379024</td>\n",
              "      <td>FALTO PARA DOS ALUMNOS UNO PARA QUINTO GRADO Y...</td>\n",
              "      <td>1</td>\n",
              "      <td>0</td>\n",
              "      <td>0</td>\n",
              "      <td>0</td>\n",
              "    </tr>\n",
              "    <tr>\n",
              "      <th>5</th>\n",
              "      <td>1223</td>\n",
              "      <td>378836</td>\n",
              "      <td>Se requiere el incremento para los estudiantes...</td>\n",
              "      <td>1</td>\n",
              "      <td>0</td>\n",
              "      <td>0</td>\n",
              "      <td>0</td>\n",
              "    </tr>\n",
              "    <tr>\n",
              "      <th>6</th>\n",
              "      <td>4659</td>\n",
              "      <td>1559046</td>\n",
              "      <td>No llegaron la cantidad de tabletas para todos...</td>\n",
              "      <td>1</td>\n",
              "      <td>0</td>\n",
              "      <td>0</td>\n",
              "      <td>0</td>\n",
              "    </tr>\n",
              "    <tr>\n",
              "      <th>7</th>\n",
              "      <td>2577</td>\n",
              "      <td>606590</td>\n",
              "      <td>Los cargadores solares llegaron en cantidades ...</td>\n",
              "      <td>1</td>\n",
              "      <td>0</td>\n",
              "      <td>1</td>\n",
              "      <td>0</td>\n",
              "    </tr>\n",
              "    <tr>\n",
              "      <th>8</th>\n",
              "      <td>1220</td>\n",
              "      <td>378638</td>\n",
              "      <td>Faltan 3 tabletas para estudiantes y 1 tableta...</td>\n",
              "      <td>1</td>\n",
              "      <td>0</td>\n",
              "      <td>0</td>\n",
              "      <td>0</td>\n",
              "    </tr>\n",
              "    <tr>\n",
              "      <th>9</th>\n",
              "      <td>2578</td>\n",
              "      <td>606970</td>\n",
              "      <td>FALTO 3 ESTUDIANTE DE CUARTO GRADO DE PRIMARIA...</td>\n",
              "      <td>1</td>\n",
              "      <td>0</td>\n",
              "      <td>0</td>\n",
              "      <td>0</td>\n",
              "    </tr>\n",
              "  </tbody>\n",
              "</table>\n",
              "</div>\n",
              "      <button class=\"colab-df-convert\" onclick=\"convertToInteractive('df-cb8ff6ea-91b8-42ad-950f-08884b1d2fb2')\"\n",
              "              title=\"Convert this dataframe to an interactive table.\"\n",
              "              style=\"display:none;\">\n",
              "        \n",
              "  <svg xmlns=\"http://www.w3.org/2000/svg\" height=\"24px\"viewBox=\"0 0 24 24\"\n",
              "       width=\"24px\">\n",
              "    <path d=\"M0 0h24v24H0V0z\" fill=\"none\"/>\n",
              "    <path d=\"M18.56 5.44l.94 2.06.94-2.06 2.06-.94-2.06-.94-.94-2.06-.94 2.06-2.06.94zm-11 1L8.5 8.5l.94-2.06 2.06-.94-2.06-.94L8.5 2.5l-.94 2.06-2.06.94zm10 10l.94 2.06.94-2.06 2.06-.94-2.06-.94-.94-2.06-.94 2.06-2.06.94z\"/><path d=\"M17.41 7.96l-1.37-1.37c-.4-.4-.92-.59-1.43-.59-.52 0-1.04.2-1.43.59L10.3 9.45l-7.72 7.72c-.78.78-.78 2.05 0 2.83L4 21.41c.39.39.9.59 1.41.59.51 0 1.02-.2 1.41-.59l7.78-7.78 2.81-2.81c.8-.78.8-2.07 0-2.86zM5.41 20L4 18.59l7.72-7.72 1.47 1.35L5.41 20z\"/>\n",
              "  </svg>\n",
              "      </button>\n",
              "      \n",
              "  <style>\n",
              "    .colab-df-container {\n",
              "      display:flex;\n",
              "      flex-wrap:wrap;\n",
              "      gap: 12px;\n",
              "    }\n",
              "\n",
              "    .colab-df-convert {\n",
              "      background-color: #E8F0FE;\n",
              "      border: none;\n",
              "      border-radius: 50%;\n",
              "      cursor: pointer;\n",
              "      display: none;\n",
              "      fill: #1967D2;\n",
              "      height: 32px;\n",
              "      padding: 0 0 0 0;\n",
              "      width: 32px;\n",
              "    }\n",
              "\n",
              "    .colab-df-convert:hover {\n",
              "      background-color: #E2EBFA;\n",
              "      box-shadow: 0px 1px 2px rgba(60, 64, 67, 0.3), 0px 1px 3px 1px rgba(60, 64, 67, 0.15);\n",
              "      fill: #174EA6;\n",
              "    }\n",
              "\n",
              "    [theme=dark] .colab-df-convert {\n",
              "      background-color: #3B4455;\n",
              "      fill: #D2E3FC;\n",
              "    }\n",
              "\n",
              "    [theme=dark] .colab-df-convert:hover {\n",
              "      background-color: #434B5C;\n",
              "      box-shadow: 0px 1px 3px 1px rgba(0, 0, 0, 0.15);\n",
              "      filter: drop-shadow(0px 1px 2px rgba(0, 0, 0, 0.3));\n",
              "      fill: #FFFFFF;\n",
              "    }\n",
              "  </style>\n",
              "\n",
              "      <script>\n",
              "        const buttonEl =\n",
              "          document.querySelector('#df-cb8ff6ea-91b8-42ad-950f-08884b1d2fb2 button.colab-df-convert');\n",
              "        buttonEl.style.display =\n",
              "          google.colab.kernel.accessAllowed ? 'block' : 'none';\n",
              "\n",
              "        async function convertToInteractive(key) {\n",
              "          const element = document.querySelector('#df-cb8ff6ea-91b8-42ad-950f-08884b1d2fb2');\n",
              "          const dataTable =\n",
              "            await google.colab.kernel.invokeFunction('convertToInteractive',\n",
              "                                                     [key], {});\n",
              "          if (!dataTable) return;\n",
              "\n",
              "          const docLinkHtml = 'Like what you see? Visit the ' +\n",
              "            '<a target=\"_blank\" href=https://colab.research.google.com/notebooks/data_table.ipynb>data table notebook</a>'\n",
              "            + ' to learn more about interactive tables.';\n",
              "          element.innerHTML = '';\n",
              "          dataTable['output_type'] = 'display_data';\n",
              "          await google.colab.output.renderOutput(dataTable, element);\n",
              "          const docLink = document.createElement('div');\n",
              "          docLink.innerHTML = docLinkHtml;\n",
              "          element.appendChild(docLink);\n",
              "        }\n",
              "      </script>\n",
              "    </div>\n",
              "  </div>\n",
              "  "
            ]
          },
          "metadata": {},
          "execution_count": 6
        }
      ]
    },
    {
      "cell_type": "markdown",
      "source": [
        "## Limpieza de datos\n",
        "Se aplican 7 funciones que estandarizan y reducen los palabras necesarias para realizar los modelos"
      ],
      "metadata": {
        "id": "PXESWvWGmrug"
      }
    },
    {
      "cell_type": "code",
      "source": [
        "%%time\n",
        "text_corpus = nt.normalizar_texto(datos['OBSERVACION_RECEPCION'],\n",
        "                                    contraction_expansion=True,\n",
        "                                    accented_char_removal=True, \n",
        "                                    text_lower_case=True, \n",
        "                                    text_stemming=False, text_lemmatization=True, \n",
        "                                    special_char_removal=True, remove_digits=True,\n",
        "                                    stopword_removal=True, special_cases = True,\n",
        "                                    autocorrecion=False,\n",
        "                                    stopwords = stop_words_tablets)"
      ],
      "metadata": {
        "colab": {
          "base_uri": "https://localhost:8080/"
        },
        "id": "6G5j8X-7l4t3",
        "outputId": "9c3501ae-ef06-4eb2-8cb1-be598cb1f1bb"
      },
      "execution_count": 7,
      "outputs": [
        {
          "output_type": "stream",
          "name": "stdout",
          "text": [
            "CPU times: user 1min 17s, sys: 256 ms, total: 1min 17s\n",
            "Wall time: 1min 33s\n"
          ]
        }
      ]
    },
    {
      "cell_type": "code",
      "source": [
        "from normalizar_texto import palabras_repetidas\n",
        "texto_limpio = []\n",
        "for doc in text_corpus:\n",
        "    word = palabras_repetidas(doc)\n",
        "    texto_limpio.append(word)"
      ],
      "metadata": {
        "id": "3Uq7jIYE2Tbs"
      },
      "execution_count": 8,
      "outputs": []
    },
    {
      "cell_type": "code",
      "source": [
        "#obs_asigna_dir_export = '/content/drive/MyDrive/dgavidia_minedu/BD USE/NLP/TABLETAS/Input/observaciones/20230104/obs_asigna_clean.xlsx'\n",
        "#datos['obs'] = asigna_corpus\n",
        "#datos.to_excel(obs_asigna_dir_export)\n",
        "#datos = pd.read_excel(obs_asigna_dir_export)"
      ],
      "metadata": {
        "id": "ITK9_S4cLS47"
      },
      "execution_count": 9,
      "outputs": []
    },
    {
      "cell_type": "code",
      "source": [
        "nt.normalizar_texto(['Se requiere el incremento para los '],\n",
        "                                    contraction_expansion=True,\n",
        "                                    accented_char_removal=True, \n",
        "                                    text_lower_case=True, \n",
        "                                    text_stemming=False, text_lemmatization=True, \n",
        "                                    special_char_removal=True, remove_digits=True,\n",
        "                                    stopword_removal=True, special_cases = True,\n",
        "                                    autocorrecion=False,\n",
        "                                    stopwords = stop_words_tablets)"
      ],
      "metadata": {
        "colab": {
          "base_uri": "https://localhost:8080/"
        },
        "id": "0-0zrMO13N_B",
        "outputId": "eabaefff-32ef-4579-f942-cf0a6b2987f4"
      },
      "execution_count": 10,
      "outputs": [
        {
          "output_type": "execute_result",
          "data": {
            "text/plain": [
              "['él requerir incremento']"
            ]
          },
          "metadata": {},
          "execution_count": 10
        }
      ]
    },
    {
      "cell_type": "code",
      "source": [
        "datos['obs'] = texto_limpio\n",
        "datos['target'] = np.where(datos.flg_cat==97,1,0)"
      ],
      "metadata": {
        "id": "5hyv0s6HrYGk"
      },
      "execution_count": 11,
      "outputs": []
    },
    {
      "cell_type": "code",
      "source": [
        "datos['target'].value_counts()"
      ],
      "metadata": {
        "colab": {
          "base_uri": "https://localhost:8080/"
        },
        "id": "S83b5rmAKN_u",
        "outputId": "35254753-4f25-4f13-c06b-cf6bbcf2588b"
      },
      "execution_count": 12,
      "outputs": [
        {
          "output_type": "execute_result",
          "data": {
            "text/plain": [
              "0    3551\n",
              "1    2008\n",
              "Name: target, dtype: int64"
            ]
          },
          "metadata": {},
          "execution_count": 12
        }
      ]
    },
    {
      "cell_type": "code",
      "source": [
        "datos.head(10)"
      ],
      "metadata": {
        "colab": {
          "base_uri": "https://localhost:8080/",
          "height": 948
        },
        "id": "shgMQ2R3zKrw",
        "outputId": "397e6fdb-2563-40f8-9980-733fab0f19b6"
      },
      "execution_count": 13,
      "outputs": [
        {
          "output_type": "execute_result",
          "data": {
            "text/plain": [
              "   Número  CODIGO_MODULAR                              OBSERVACION_RECEPCION  \\\n",
              "0    4141         1324920                       SOLO LLEGÓ UN CARGADOR SOLAR   \n",
              "1    4661         1562008  LA TABLET CON CODIGO Q10L2102382003 LLEGO SIN ...   \n",
              "2    2574          602441                               FALTA CARGADOR SOLAR   \n",
              "3    5094          380410  Solo llegó una tableta que es insuficiente  pa...   \n",
              "4    1224          379024  FALTO PARA DOS ALUMNOS UNO PARA QUINTO GRADO Y...   \n",
              "5    1223          378836  Se requiere el incremento para los estudiantes...   \n",
              "6    4659         1559046  No llegaron la cantidad de tabletas para todos...   \n",
              "7    2577          606590  Los cargadores solares llegaron en cantidades ...   \n",
              "8    1220          378638  Faltan 3 tabletas para estudiantes y 1 tableta...   \n",
              "9    2578          606970  FALTO 3 ESTUDIANTE DE CUARTO GRADO DE PRIMARIA...   \n",
              "\n",
              "   flg_cat  flg_bin  flg_motivo  flg_nombre  \\\n",
              "0        1        0           0           0   \n",
              "1        1        0           0           0   \n",
              "2        1        0           0           0   \n",
              "3        1        0           1           0   \n",
              "4        1        0           0           0   \n",
              "5        1        0           0           0   \n",
              "6        1        0           0           0   \n",
              "7        1        0           1           0   \n",
              "8        1        0           0           0   \n",
              "9        1        0           0           0   \n",
              "\n",
              "                                                 obs  target  \n",
              "0                          solo llego cargador solar       0  \n",
              "1                      tableto codigo llego cargador       0  \n",
              "2                               falta cargador solar       0  \n",
              "3  solo llego tableto insuficiente iv v ciclo no ...       0  \n",
              "4                                              falta       0  \n",
              "5     él requerir incremento completar total tableta       0  \n",
              "6  no llegar cantidad tableto educacion acuerdo n...       0  \n",
              "7     cargador solar llegar cantidad completa faltar       0  \n",
              "8                              falta tableto tableta       0  \n",
              "9                                        faltar aula       0  "
            ],
            "text/html": [
              "\n",
              "  <div id=\"df-9f4837d6-aba0-485f-8a54-51f198db6cdf\">\n",
              "    <div class=\"colab-df-container\">\n",
              "      <div>\n",
              "<style scoped>\n",
              "    .dataframe tbody tr th:only-of-type {\n",
              "        vertical-align: middle;\n",
              "    }\n",
              "\n",
              "    .dataframe tbody tr th {\n",
              "        vertical-align: top;\n",
              "    }\n",
              "\n",
              "    .dataframe thead th {\n",
              "        text-align: right;\n",
              "    }\n",
              "</style>\n",
              "<table border=\"1\" class=\"dataframe\">\n",
              "  <thead>\n",
              "    <tr style=\"text-align: right;\">\n",
              "      <th></th>\n",
              "      <th>Número</th>\n",
              "      <th>CODIGO_MODULAR</th>\n",
              "      <th>OBSERVACION_RECEPCION</th>\n",
              "      <th>flg_cat</th>\n",
              "      <th>flg_bin</th>\n",
              "      <th>flg_motivo</th>\n",
              "      <th>flg_nombre</th>\n",
              "      <th>obs</th>\n",
              "      <th>target</th>\n",
              "    </tr>\n",
              "  </thead>\n",
              "  <tbody>\n",
              "    <tr>\n",
              "      <th>0</th>\n",
              "      <td>4141</td>\n",
              "      <td>1324920</td>\n",
              "      <td>SOLO LLEGÓ UN CARGADOR SOLAR</td>\n",
              "      <td>1</td>\n",
              "      <td>0</td>\n",
              "      <td>0</td>\n",
              "      <td>0</td>\n",
              "      <td>solo llego cargador solar</td>\n",
              "      <td>0</td>\n",
              "    </tr>\n",
              "    <tr>\n",
              "      <th>1</th>\n",
              "      <td>4661</td>\n",
              "      <td>1562008</td>\n",
              "      <td>LA TABLET CON CODIGO Q10L2102382003 LLEGO SIN ...</td>\n",
              "      <td>1</td>\n",
              "      <td>0</td>\n",
              "      <td>0</td>\n",
              "      <td>0</td>\n",
              "      <td>tableto codigo llego cargador</td>\n",
              "      <td>0</td>\n",
              "    </tr>\n",
              "    <tr>\n",
              "      <th>2</th>\n",
              "      <td>2574</td>\n",
              "      <td>602441</td>\n",
              "      <td>FALTA CARGADOR SOLAR</td>\n",
              "      <td>1</td>\n",
              "      <td>0</td>\n",
              "      <td>0</td>\n",
              "      <td>0</td>\n",
              "      <td>falta cargador solar</td>\n",
              "      <td>0</td>\n",
              "    </tr>\n",
              "    <tr>\n",
              "      <th>3</th>\n",
              "      <td>5094</td>\n",
              "      <td>380410</td>\n",
              "      <td>Solo llegó una tableta que es insuficiente  pa...</td>\n",
              "      <td>1</td>\n",
              "      <td>0</td>\n",
              "      <td>1</td>\n",
              "      <td>0</td>\n",
              "      <td>solo llego tableto insuficiente iv v ciclo no ...</td>\n",
              "      <td>0</td>\n",
              "    </tr>\n",
              "    <tr>\n",
              "      <th>4</th>\n",
              "      <td>1224</td>\n",
              "      <td>379024</td>\n",
              "      <td>FALTO PARA DOS ALUMNOS UNO PARA QUINTO GRADO Y...</td>\n",
              "      <td>1</td>\n",
              "      <td>0</td>\n",
              "      <td>0</td>\n",
              "      <td>0</td>\n",
              "      <td>falta</td>\n",
              "      <td>0</td>\n",
              "    </tr>\n",
              "    <tr>\n",
              "      <th>5</th>\n",
              "      <td>1223</td>\n",
              "      <td>378836</td>\n",
              "      <td>Se requiere el incremento para los estudiantes...</td>\n",
              "      <td>1</td>\n",
              "      <td>0</td>\n",
              "      <td>0</td>\n",
              "      <td>0</td>\n",
              "      <td>él requerir incremento completar total tableta</td>\n",
              "      <td>0</td>\n",
              "    </tr>\n",
              "    <tr>\n",
              "      <th>6</th>\n",
              "      <td>4659</td>\n",
              "      <td>1559046</td>\n",
              "      <td>No llegaron la cantidad de tabletas para todos...</td>\n",
              "      <td>1</td>\n",
              "      <td>0</td>\n",
              "      <td>0</td>\n",
              "      <td>0</td>\n",
              "      <td>no llegar cantidad tableto educacion acuerdo n...</td>\n",
              "      <td>0</td>\n",
              "    </tr>\n",
              "    <tr>\n",
              "      <th>7</th>\n",
              "      <td>2577</td>\n",
              "      <td>606590</td>\n",
              "      <td>Los cargadores solares llegaron en cantidades ...</td>\n",
              "      <td>1</td>\n",
              "      <td>0</td>\n",
              "      <td>1</td>\n",
              "      <td>0</td>\n",
              "      <td>cargador solar llegar cantidad completa faltar</td>\n",
              "      <td>0</td>\n",
              "    </tr>\n",
              "    <tr>\n",
              "      <th>8</th>\n",
              "      <td>1220</td>\n",
              "      <td>378638</td>\n",
              "      <td>Faltan 3 tabletas para estudiantes y 1 tableta...</td>\n",
              "      <td>1</td>\n",
              "      <td>0</td>\n",
              "      <td>0</td>\n",
              "      <td>0</td>\n",
              "      <td>falta tableto tableta</td>\n",
              "      <td>0</td>\n",
              "    </tr>\n",
              "    <tr>\n",
              "      <th>9</th>\n",
              "      <td>2578</td>\n",
              "      <td>606970</td>\n",
              "      <td>FALTO 3 ESTUDIANTE DE CUARTO GRADO DE PRIMARIA...</td>\n",
              "      <td>1</td>\n",
              "      <td>0</td>\n",
              "      <td>0</td>\n",
              "      <td>0</td>\n",
              "      <td>faltar aula</td>\n",
              "      <td>0</td>\n",
              "    </tr>\n",
              "  </tbody>\n",
              "</table>\n",
              "</div>\n",
              "      <button class=\"colab-df-convert\" onclick=\"convertToInteractive('df-9f4837d6-aba0-485f-8a54-51f198db6cdf')\"\n",
              "              title=\"Convert this dataframe to an interactive table.\"\n",
              "              style=\"display:none;\">\n",
              "        \n",
              "  <svg xmlns=\"http://www.w3.org/2000/svg\" height=\"24px\"viewBox=\"0 0 24 24\"\n",
              "       width=\"24px\">\n",
              "    <path d=\"M0 0h24v24H0V0z\" fill=\"none\"/>\n",
              "    <path d=\"M18.56 5.44l.94 2.06.94-2.06 2.06-.94-2.06-.94-.94-2.06-.94 2.06-2.06.94zm-11 1L8.5 8.5l.94-2.06 2.06-.94-2.06-.94L8.5 2.5l-.94 2.06-2.06.94zm10 10l.94 2.06.94-2.06 2.06-.94-2.06-.94-.94-2.06-.94 2.06-2.06.94z\"/><path d=\"M17.41 7.96l-1.37-1.37c-.4-.4-.92-.59-1.43-.59-.52 0-1.04.2-1.43.59L10.3 9.45l-7.72 7.72c-.78.78-.78 2.05 0 2.83L4 21.41c.39.39.9.59 1.41.59.51 0 1.02-.2 1.41-.59l7.78-7.78 2.81-2.81c.8-.78.8-2.07 0-2.86zM5.41 20L4 18.59l7.72-7.72 1.47 1.35L5.41 20z\"/>\n",
              "  </svg>\n",
              "      </button>\n",
              "      \n",
              "  <style>\n",
              "    .colab-df-container {\n",
              "      display:flex;\n",
              "      flex-wrap:wrap;\n",
              "      gap: 12px;\n",
              "    }\n",
              "\n",
              "    .colab-df-convert {\n",
              "      background-color: #E8F0FE;\n",
              "      border: none;\n",
              "      border-radius: 50%;\n",
              "      cursor: pointer;\n",
              "      display: none;\n",
              "      fill: #1967D2;\n",
              "      height: 32px;\n",
              "      padding: 0 0 0 0;\n",
              "      width: 32px;\n",
              "    }\n",
              "\n",
              "    .colab-df-convert:hover {\n",
              "      background-color: #E2EBFA;\n",
              "      box-shadow: 0px 1px 2px rgba(60, 64, 67, 0.3), 0px 1px 3px 1px rgba(60, 64, 67, 0.15);\n",
              "      fill: #174EA6;\n",
              "    }\n",
              "\n",
              "    [theme=dark] .colab-df-convert {\n",
              "      background-color: #3B4455;\n",
              "      fill: #D2E3FC;\n",
              "    }\n",
              "\n",
              "    [theme=dark] .colab-df-convert:hover {\n",
              "      background-color: #434B5C;\n",
              "      box-shadow: 0px 1px 3px 1px rgba(0, 0, 0, 0.15);\n",
              "      filter: drop-shadow(0px 1px 2px rgba(0, 0, 0, 0.3));\n",
              "      fill: #FFFFFF;\n",
              "    }\n",
              "  </style>\n",
              "\n",
              "      <script>\n",
              "        const buttonEl =\n",
              "          document.querySelector('#df-9f4837d6-aba0-485f-8a54-51f198db6cdf button.colab-df-convert');\n",
              "        buttonEl.style.display =\n",
              "          google.colab.kernel.accessAllowed ? 'block' : 'none';\n",
              "\n",
              "        async function convertToInteractive(key) {\n",
              "          const element = document.querySelector('#df-9f4837d6-aba0-485f-8a54-51f198db6cdf');\n",
              "          const dataTable =\n",
              "            await google.colab.kernel.invokeFunction('convertToInteractive',\n",
              "                                                     [key], {});\n",
              "          if (!dataTable) return;\n",
              "\n",
              "          const docLinkHtml = 'Like what you see? Visit the ' +\n",
              "            '<a target=\"_blank\" href=https://colab.research.google.com/notebooks/data_table.ipynb>data table notebook</a>'\n",
              "            + ' to learn more about interactive tables.';\n",
              "          element.innerHTML = '';\n",
              "          dataTable['output_type'] = 'display_data';\n",
              "          await google.colab.output.renderOutput(dataTable, element);\n",
              "          const docLink = document.createElement('div');\n",
              "          docLink.innerHTML = docLinkHtml;\n",
              "          element.appendChild(docLink);\n",
              "        }\n",
              "      </script>\n",
              "    </div>\n",
              "  </div>\n",
              "  "
            ]
          },
          "metadata": {},
          "execution_count": 13
        }
      ]
    },
    {
      "cell_type": "markdown",
      "source": [
        "##  Definiendo datos de entrenamiento y de prueba"
      ],
      "metadata": {
        "id": "wR39fjDzpgPl"
      }
    },
    {
      "cell_type": "code",
      "source": [
        "#train_test_split(data.drop(columns=['target']), data['target'], test_size=0.2, random_state=42)\n",
        "from sklearn.model_selection import train_test_split\n",
        "train_corpus, test_corpus, train_label_nums, test_label_nums = train_test_split(\n",
        "    datos['obs'], #np.array(datos['obs'])\n",
        "    datos['target'], #np.array(datos['target'])\n",
        "    test_size=1/3, random_state=42)"
      ],
      "metadata": {
        "id": "UqKlfokb-RMU"
      },
      "execution_count": 14,
      "outputs": []
    },
    {
      "cell_type": "code",
      "source": [
        "index_train = train_corpus.index\n",
        "index_test = test_corpus.index"
      ],
      "metadata": {
        "id": "HHd3ypkulBBh"
      },
      "execution_count": 15,
      "outputs": []
    },
    {
      "cell_type": "code",
      "source": [
        "train_corpus, test_corpus, train_label_nums, test_label_nums = train_test_split(\n",
        "    np.array(datos['obs']), #datos['obs']\n",
        "    np.array(datos['target']), #datos['target']\n",
        "    test_size=1/3, random_state=42)"
      ],
      "metadata": {
        "id": "zPL2C58epKlF"
      },
      "execution_count": 16,
      "outputs": []
    },
    {
      "cell_type": "markdown",
      "source": [
        "# Entrenamiento de modelo de clasificación"
      ],
      "metadata": {
        "id": "2KnPUlJSpk-e"
      }
    },
    {
      "cell_type": "code",
      "source": [
        "from sklearn.feature_extraction.text import CountVectorizer\n",
        "cv = CountVectorizer(binary=False, min_df=0.0, max_df=1.0)\n",
        "cv_train_features = cv.fit_transform(train_corpus)\n",
        "cv_test_features = cv.transform(test_corpus)"
      ],
      "metadata": {
        "id": "OKlkkueguUUz"
      },
      "execution_count": 17,
      "outputs": []
    },
    {
      "cell_type": "code",
      "source": [
        "#cv_matrix = cv_train_features.toarray()\n",
        "#vocab_bag_of_words = cv.get_feature_names_out()\n",
        "#cv_matrix = pd.DataFrame(cv_matrix, columns=vocab_bag_of_words)\n",
        "#cv_matrix = np.sum(cv_matrix,axis=0)"
      ],
      "metadata": {
        "id": "vzMsswHuymaK"
      },
      "execution_count": 18,
      "outputs": []
    },
    {
      "cell_type": "code",
      "source": [
        "from sklearn.linear_model import LogisticRegression\n",
        "from sklearn.model_selection import cross_val_score\n",
        "lr = LogisticRegression(penalty='l2', max_iter=100, C=1, random_state=42)\n",
        "lr.fit(cv_train_features, train_label_nums)\n",
        "#------------------------------------------------------------------------------*\n",
        "lr_bow_cv_scores = cross_val_score(lr, cv_train_features, train_label_nums, cv=5)\n",
        "lr_bow_cv_mean_score = np.mean(lr_bow_cv_scores)"
      ],
      "metadata": {
        "id": "U2v7wAqizU9P"
      },
      "execution_count": 19,
      "outputs": []
    },
    {
      "cell_type": "markdown",
      "source": [
        "## Métricas de precisión"
      ],
      "metadata": {
        "id": "0rdS_zWr9XHn"
      }
    },
    {
      "cell_type": "code",
      "source": [
        "lr_bow_cv_scores = cross_val_score(lr, cv_train_features, train_label_nums, cv=5)\n",
        "lr_bow_cv_mean_score = np.mean(lr_bow_cv_scores)\n",
        "print('CV Accuracy (5-fold):', lr_bow_cv_scores)\n",
        "print('Mean CV Accuracy:', lr_bow_cv_mean_score)\n",
        "lr_bow_test_score = lr.score(cv_test_features, test_label_nums)\n",
        "print('Test Accuracy:', lr_bow_test_score)"
      ],
      "metadata": {
        "colab": {
          "base_uri": "https://localhost:8080/"
        },
        "id": "3j3fwq8mz_H8",
        "outputId": "be42c15e-bab7-4370-da3c-995c87b4290d"
      },
      "execution_count": 20,
      "outputs": [
        {
          "output_type": "stream",
          "name": "stdout",
          "text": [
            "CV Accuracy (5-fold): [0.9097035  0.91497976 0.92712551 0.90958165 0.92577598]\n",
            "Mean CV Accuracy: 0.917433278406466\n",
            "Test Accuracy: 0.9276848354020507\n"
          ]
        }
      ]
    },
    {
      "cell_type": "code",
      "source": [
        "from sklearn.metrics import roc_curve, roc_auc_score\n",
        "import matplotlib.pyplot as plt\n",
        "\n",
        "# Obtener las probabilidades predichas y las verdaderas etiquetas\n",
        "y_prob = lr.predict_proba(cv_test_features)[:, 1]\n",
        "y_true = test_label_nums\n",
        "print(len(y_prob))"
      ],
      "metadata": {
        "colab": {
          "base_uri": "https://localhost:8080/"
        },
        "id": "IPeuBd3P1F2G",
        "outputId": "1d7a5d82-75de-409e-add4-f04ef0f194af"
      },
      "execution_count": 21,
      "outputs": [
        {
          "output_type": "stream",
          "name": "stdout",
          "text": [
            "1853\n"
          ]
        }
      ]
    },
    {
      "cell_type": "markdown",
      "source": [
        "Curva roc y corte óptimo"
      ],
      "metadata": {
        "id": "MBkmwPj89aiG"
      }
    },
    {
      "cell_type": "code",
      "source": [
        "# Calcular la curva ROC\n",
        "fpr, tpr, thresholds = roc_curve(y_true, y_prob)\n",
        "\n",
        "# Calcular el área bajo la curva ROC\n",
        "auc = roc_auc_score(y_true, y_prob)\n",
        "\n",
        "# Graficar la curva ROC\n",
        "plt.plot(fpr, tpr, label=f'ROC curve (AUC={auc:.2f})')\n",
        "plt.plot([0, 1], [0, 1], linestyle='--', color='gray')\n",
        "plt.xlabel('False Positive Rate')\n",
        "plt.ylabel('True Positive Rate')\n",
        "plt.title('Receiver Operating Characteristic (ROC) Curve')\n",
        "plt.legend()\n",
        "plt.show()\n",
        "\n",
        "# Encontrar el punto de corte óptimo\n",
        "optimal_idx = np.argmax(tpr - fpr)\n",
        "optimal_threshold = thresholds[optimal_idx]\n",
        "print(f'Optimal threshold: {optimal_threshold:.2f}')"
      ],
      "metadata": {
        "colab": {
          "base_uri": "https://localhost:8080/",
          "height": 489
        },
        "id": "8mz24Drl3TIM",
        "outputId": "c38ee347-41c5-444c-aebc-4212c9a8c2e9"
      },
      "execution_count": 22,
      "outputs": [
        {
          "output_type": "display_data",
          "data": {
            "text/plain": [
              "<Figure size 640x480 with 1 Axes>"
            ],
            "image/png": "[encoded data removed]"
          },
          "metadata": {}
        },
        {
          "output_type": "stream",
          "name": "stdout",
          "text": [
            "Optimal threshold: 0.41\n"
          ]
        }
      ]
    },
    {
      "cell_type": "code",
      "source": [
        "optimal_threshold"
      ],
      "metadata": {
        "colab": {
          "base_uri": "https://localhost:8080/"
        },
        "id": "xc0Ex8RZ7u-A",
        "outputId": "8884d68d-94d1-401f-8755-2e0589165dcf"
      },
      "execution_count": 23,
      "outputs": [
        {
          "output_type": "execute_result",
          "data": {
            "text/plain": [
              "0.4148418840842973"
            ]
          },
          "metadata": {},
          "execution_count": 23
        }
      ]
    },
    {
      "cell_type": "code",
      "source": [
        "ninguna_observacion = y_prob>optimal_threshold\n",
        "fitted_data = pd.DataFrame()\n",
        "fitted_data['obs'] = test_corpus\n",
        "fitted_data['target'] = test_label_nums\n",
        "fitted_data['ninguna_observacion'] = ninguna_observacion"
      ],
      "metadata": {
        "id": "lBEJ8uJb7S8H"
      },
      "execution_count": 24,
      "outputs": []
    },
    {
      "cell_type": "code",
      "source": [
        "pd.crosstab(fitted_data['target'],fitted_data['ninguna_observacion'])"
      ],
      "metadata": {
        "colab": {
          "base_uri": "https://localhost:8080/",
          "height": 143
        },
        "id": "WMnNItojBQ-o",
        "outputId": "aed8a66d-5306-4c6a-b1eb-350ed65e82c5"
      },
      "execution_count": 25,
      "outputs": [
        {
          "output_type": "execute_result",
          "data": {
            "text/plain": [
              "ninguna_observacion  False  True \n",
              "target                           \n",
              "0                     1083    105\n",
              "1                       41    624"
            ],
            "text/html": [
              "\n",
              "  <div id=\"df-d9694153-ec64-40e8-9bcb-f443255a4387\">\n",
              "    <div class=\"colab-df-container\">\n",
              "      <div>\n",
              "<style scoped>\n",
              "    .dataframe tbody tr th:only-of-type {\n",
              "        vertical-align: middle;\n",
              "    }\n",
              "\n",
              "    .dataframe tbody tr th {\n",
              "        vertical-align: top;\n",
              "    }\n",
              "\n",
              "    .dataframe thead th {\n",
              "        text-align: right;\n",
              "    }\n",
              "</style>\n",
              "<table border=\"1\" class=\"dataframe\">\n",
              "  <thead>\n",
              "    <tr style=\"text-align: right;\">\n",
              "      <th>ninguna_observacion</th>\n",
              "      <th>False</th>\n",
              "      <th>True</th>\n",
              "    </tr>\n",
              "    <tr>\n",
              "      <th>target</th>\n",
              "      <th></th>\n",
              "      <th></th>\n",
              "    </tr>\n",
              "  </thead>\n",
              "  <tbody>\n",
              "    <tr>\n",
              "      <th>0</th>\n",
              "      <td>1083</td>\n",
              "      <td>105</td>\n",
              "    </tr>\n",
              "    <tr>\n",
              "      <th>1</th>\n",
              "      <td>41</td>\n",
              "      <td>624</td>\n",
              "    </tr>\n",
              "  </tbody>\n",
              "</table>\n",
              "</div>\n",
              "      <button class=\"colab-df-convert\" onclick=\"convertToInteractive('df-d9694153-ec64-40e8-9bcb-f443255a4387')\"\n",
              "              title=\"Convert this dataframe to an interactive table.\"\n",
              "              style=\"display:none;\">\n",
              "        \n",
              "  <svg xmlns=\"http://www.w3.org/2000/svg\" height=\"24px\"viewBox=\"0 0 24 24\"\n",
              "       width=\"24px\">\n",
              "    <path d=\"M0 0h24v24H0V0z\" fill=\"none\"/>\n",
              "    <path d=\"M18.56 5.44l.94 2.06.94-2.06 2.06-.94-2.06-.94-.94-2.06-.94 2.06-2.06.94zm-11 1L8.5 8.5l.94-2.06 2.06-.94-2.06-.94L8.5 2.5l-.94 2.06-2.06.94zm10 10l.94 2.06.94-2.06 2.06-.94-2.06-.94-.94-2.06-.94 2.06-2.06.94z\"/><path d=\"M17.41 7.96l-1.37-1.37c-.4-.4-.92-.59-1.43-.59-.52 0-1.04.2-1.43.59L10.3 9.45l-7.72 7.72c-.78.78-.78 2.05 0 2.83L4 21.41c.39.39.9.59 1.41.59.51 0 1.02-.2 1.41-.59l7.78-7.78 2.81-2.81c.8-.78.8-2.07 0-2.86zM5.41 20L4 18.59l7.72-7.72 1.47 1.35L5.41 20z\"/>\n",
              "  </svg>\n",
              "      </button>\n",
              "      \n",
              "  <style>\n",
              "    .colab-df-container {\n",
              "      display:flex;\n",
              "      flex-wrap:wrap;\n",
              "      gap: 12px;\n",
              "    }\n",
              "\n",
              "    .colab-df-convert {\n",
              "      background-color: #E8F0FE;\n",
              "      border: none;\n",
              "      border-radius: 50%;\n",
              "      cursor: pointer;\n",
              "      display: none;\n",
              "      fill: #1967D2;\n",
              "      height: 32px;\n",
              "      padding: 0 0 0 0;\n",
              "      width: 32px;\n",
              "    }\n",
              "\n",
              "    .colab-df-convert:hover {\n",
              "      background-color: #E2EBFA;\n",
              "      box-shadow: 0px 1px 2px rgba(60, 64, 67, 0.3), 0px 1px 3px 1px rgba(60, 64, 67, 0.15);\n",
              "      fill: #174EA6;\n",
              "    }\n",
              "\n",
              "    [theme=dark] .colab-df-convert {\n",
              "      background-color: #3B4455;\n",
              "      fill: #D2E3FC;\n",
              "    }\n",
              "\n",
              "    [theme=dark] .colab-df-convert:hover {\n",
              "      background-color: #434B5C;\n",
              "      box-shadow: 0px 1px 3px 1px rgba(0, 0, 0, 0.15);\n",
              "      filter: drop-shadow(0px 1px 2px rgba(0, 0, 0, 0.3));\n",
              "      fill: #FFFFFF;\n",
              "    }\n",
              "  </style>\n",
              "\n",
              "      <script>\n",
              "        const buttonEl =\n",
              "          document.querySelector('#df-d9694153-ec64-40e8-9bcb-f443255a4387 button.colab-df-convert');\n",
              "        buttonEl.style.display =\n",
              "          google.colab.kernel.accessAllowed ? 'block' : 'none';\n",
              "\n",
              "        async function convertToInteractive(key) {\n",
              "          const element = document.querySelector('#df-d9694153-ec64-40e8-9bcb-f443255a4387');\n",
              "          const dataTable =\n",
              "            await google.colab.kernel.invokeFunction('convertToInteractive',\n",
              "                                                     [key], {});\n",
              "          if (!dataTable) return;\n",
              "\n",
              "          const docLinkHtml = 'Like what you see? Visit the ' +\n",
              "            '<a target=\"_blank\" href=https://colab.research.google.com/notebooks/data_table.ipynb>data table notebook</a>'\n",
              "            + ' to learn more about interactive tables.';\n",
              "          element.innerHTML = '';\n",
              "          dataTable['output_type'] = 'display_data';\n",
              "          await google.colab.output.renderOutput(dataTable, element);\n",
              "          const docLink = document.createElement('div');\n",
              "          docLink.innerHTML = docLinkHtml;\n",
              "          element.appendChild(docLink);\n",
              "        }\n",
              "      </script>\n",
              "    </div>\n",
              "  </div>\n",
              "  "
            ]
          },
          "metadata": {},
          "execution_count": 25
        }
      ]
    },
    {
      "cell_type": "code",
      "source": [
        "!pip freeze > requirements.txt"
      ],
      "metadata": {
        "id": "_VYKipbTVmu5"
      },
      "execution_count": 27,
      "outputs": []
    },
    {
      "cell_type": "code",
      "source": [
        "from google.colab import files\n",
        "files.download('requirements.txt')"
      ],
      "metadata": {
        "colab": {
          "base_uri": "https://localhost:8080/",
          "height": 17
        },
        "id": "mOMI1hIQVokc",
        "outputId": "d0a4a2a0-9e8f-4363-aa77-336046766d34"
      },
      "execution_count": 28,
      "outputs": [
        {
          "output_type": "display_data",
          "data": {
            "text/plain": [
              "<IPython.core.display.Javascript object>"
            ],
            "application/javascript": [
              "\n",
              "    async function download(id, filename, size) {\n",
              "      if (!google.colab.kernel.accessAllowed) {\n",
              "        return;\n",
              "      }\n",
              "      const div = document.createElement('div');\n",
              "      const label = document.createElement('label');\n",
              "      label.textContent = `Downloading \"${filename}\": `;\n",
              "      div.appendChild(label);\n",
              "      const progress = document.createElement('progress');\n",
              "      progress.max = size;\n",
              "      div.appendChild(progress);\n",
              "      document.body.appendChild(div);\n",
              "\n",
              "      const buffers = [];\n",
              "      let downloaded = 0;\n",
              "\n",
              "      const channel = await google.colab.kernel.comms.open(id);\n",
              "      // Send a message to notify the kernel that we're ready.\n",
              "      channel.send({})\n",
              "\n",
              "      for await (const message of channel.messages) {\n",
              "        // Send a message to notify the kernel that we're ready.\n",
              "        channel.send({})\n",
              "        if (message.buffers) {\n",
              "          for (const buffer of message.buffers) {\n",
              "            buffers.push(buffer);\n",
              "            downloaded += buffer.byteLength;\n",
              "            progress.value = downloaded;\n",
              "          }\n",
              "        }\n",
              "      }\n",
              "      const blob = new Blob(buffers, {type: 'application/binary'});\n",
              "      const a = document.createElement('a');\n",
              "      a.href = window.URL.createObjectURL(blob);\n",
              "      a.download = filename;\n",
              "      div.appendChild(a);\n",
              "      a.click();\n",
              "      div.remove();\n",
              "    }\n",
              "  "
            ]
          },
          "metadata": {}
        },
        {
          "output_type": "display_data",
          "data": {
            "text/plain": [
              "<IPython.core.display.Javascript object>"
            ],
            "application/javascript": [
              "download(\"download_4155a8f9-4603-41dd-968d-6df01b877391\", \"requirements.txt\", 8600)"
            ]
          },
          "metadata": {}
        }
      ]
    },
    {
      "cell_type": "code",
      "source": [
        "fitted_data.head(10)"
      ],
      "metadata": {
        "colab": {
          "base_uri": "https://localhost:8080/",
          "height": 363
        },
        "id": "LWN3vXb98lF9",
        "outputId": "80f658d1-7de2-484e-ba6a-cae190908605"
      },
      "execution_count": 26,
      "outputs": [
        {
          "output_type": "execute_result",
          "data": {
            "text/plain": [
              "                                                 obs  target  \\\n",
              "0                                            novedad       1   \n",
              "1                                cargador solar buen       1   \n",
              "2                                 él recepciono diar       1   \n",
              "3                                      falta tableto       0   \n",
              "4  cargador traer casa ahi entregar director hosp...       0   \n",
              "5                             él recepciono conforme       1   \n",
              "6  no él poder registrar plazo motivo inaccesibil...       0   \n",
              "7  registro tableto solo él poder registrar table...       0   \n",
              "8    él dar sobrante tableta correspondiente pecós n       0   \n",
              "9                                      falta tableto       0   \n",
              "\n",
              "   ninguna_observacion  \n",
              "0                 True  \n",
              "1                 True  \n",
              "2                 True  \n",
              "3                False  \n",
              "4                False  \n",
              "5                 True  \n",
              "6                False  \n",
              "7                False  \n",
              "8                False  \n",
              "9                False  "
            ],
            "text/html": [
              "\n",
              "  <div id=\"df-51ea83f0-4fe8-44f2-bf47-43bccc2889e7\">\n",
              "    <div class=\"colab-df-container\">\n",
              "      <div>\n",
              "<style scoped>\n",
              "    .dataframe tbody tr th:only-of-type {\n",
              "        vertical-align: middle;\n",
              "    }\n",
              "\n",
              "    .dataframe tbody tr th {\n",
              "        vertical-align: top;\n",
              "    }\n",
              "\n",
              "    .dataframe thead th {\n",
              "        text-align: right;\n",
              "    }\n",
              "</style>\n",
              "<table border=\"1\" class=\"dataframe\">\n",
              "  <thead>\n",
              "    <tr style=\"text-align: right;\">\n",
              "      <th></th>\n",
              "      <th>obs</th>\n",
              "      <th>target</th>\n",
              "      <th>ninguna_observacion</th>\n",
              "    </tr>\n",
              "  </thead>\n",
              "  <tbody>\n",
              "    <tr>\n",
              "      <th>0</th>\n",
              "      <td>novedad</td>\n",
              "      <td>1</td>\n",
              "      <td>True</td>\n",
              "    </tr>\n",
              "    <tr>\n",
              "      <th>1</th>\n",
              "      <td>cargador solar buen</td>\n",
              "      <td>1</td>\n",
              "      <td>True</td>\n",
              "    </tr>\n",
              "    <tr>\n",
              "      <th>2</th>\n",
              "      <td>él recepciono diar</td>\n",
              "      <td>1</td>\n",
              "      <td>True</td>\n",
              "    </tr>\n",
              "    <tr>\n",
              "      <th>3</th>\n",
              "      <td>falta tableto</td>\n",
              "      <td>0</td>\n",
              "      <td>False</td>\n",
              "    </tr>\n",
              "    <tr>\n",
              "      <th>4</th>\n",
              "      <td>cargador traer casa ahi entregar director hosp...</td>\n",
              "      <td>0</td>\n",
              "      <td>False</td>\n",
              "    </tr>\n",
              "    <tr>\n",
              "      <th>5</th>\n",
              "      <td>él recepciono conforme</td>\n",
              "      <td>1</td>\n",
              "      <td>True</td>\n",
              "    </tr>\n",
              "    <tr>\n",
              "      <th>6</th>\n",
              "      <td>no él poder registrar plazo motivo inaccesibil...</td>\n",
              "      <td>0</td>\n",
              "      <td>False</td>\n",
              "    </tr>\n",
              "    <tr>\n",
              "      <th>7</th>\n",
              "      <td>registro tableto solo él poder registrar table...</td>\n",
              "      <td>0</td>\n",
              "      <td>False</td>\n",
              "    </tr>\n",
              "    <tr>\n",
              "      <th>8</th>\n",
              "      <td>él dar sobrante tableta correspondiente pecós n</td>\n",
              "      <td>0</td>\n",
              "      <td>False</td>\n",
              "    </tr>\n",
              "    <tr>\n",
              "      <th>9</th>\n",
              "      <td>falta tableto</td>\n",
              "      <td>0</td>\n",
              "      <td>False</td>\n",
              "    </tr>\n",
              "  </tbody>\n",
              "</table>\n",
              "</div>\n",
              "      <button class=\"colab-df-convert\" onclick=\"convertToInteractive('df-51ea83f0-4fe8-44f2-bf47-43bccc2889e7')\"\n",
              "              title=\"Convert this dataframe to an interactive table.\"\n",
              "              style=\"display:none;\">\n",
              "        \n",
              "  <svg xmlns=\"http://www.w3.org/2000/svg\" height=\"24px\"viewBox=\"0 0 24 24\"\n",
              "       width=\"24px\">\n",
              "    <path d=\"M0 0h24v24H0V0z\" fill=\"none\"/>\n",
              "    <path d=\"M18.56 5.44l.94 2.06.94-2.06 2.06-.94-2.06-.94-.94-2.06-.94 2.06-2.06.94zm-11 1L8.5 8.5l.94-2.06 2.06-.94-2.06-.94L8.5 2.5l-.94 2.06-2.06.94zm10 10l.94 2.06.94-2.06 2.06-.94-2.06-.94-.94-2.06-.94 2.06-2.06.94z\"/><path d=\"M17.41 7.96l-1.37-1.37c-.4-.4-.92-.59-1.43-.59-.52 0-1.04.2-1.43.59L10.3 9.45l-7.72 7.72c-.78.78-.78 2.05 0 2.83L4 21.41c.39.39.9.59 1.41.59.51 0 1.02-.2 1.41-.59l7.78-7.78 2.81-2.81c.8-.78.8-2.07 0-2.86zM5.41 20L4 18.59l7.72-7.72 1.47 1.35L5.41 20z\"/>\n",
              "  </svg>\n",
              "      </button>\n",
              "      \n",
              "  <style>\n",
              "    .colab-df-container {\n",
              "      display:flex;\n",
              "      flex-wrap:wrap;\n",
              "      gap: 12px;\n",
              "    }\n",
              "\n",
              "    .colab-df-convert {\n",
              "      background-color: #E8F0FE;\n",
              "      border: none;\n",
              "      border-radius: 50%;\n",
              "      cursor: pointer;\n",
              "      display: none;\n",
              "      fill: #1967D2;\n",
              "      height: 32px;\n",
              "      padding: 0 0 0 0;\n",
              "      width: 32px;\n",
              "    }\n",
              "\n",
              "    .colab-df-convert:hover {\n",
              "      background-color: #E2EBFA;\n",
              "      box-shadow: 0px 1px 2px rgba(60, 64, 67, 0.3), 0px 1px 3px 1px rgba(60, 64, 67, 0.15);\n",
              "      fill: #174EA6;\n",
              "    }\n",
              "\n",
              "    [theme=dark] .colab-df-convert {\n",
              "      background-color: #3B4455;\n",
              "      fill: #D2E3FC;\n",
              "    }\n",
              "\n",
              "    [theme=dark] .colab-df-convert:hover {\n",
              "      background-color: #434B5C;\n",
              "      box-shadow: 0px 1px 3px 1px rgba(0, 0, 0, 0.15);\n",
              "      filter: drop-shadow(0px 1px 2px rgba(0, 0, 0, 0.3));\n",
              "      fill: #FFFFFF;\n",
              "    }\n",
              "  </style>\n",
              "\n",
              "      <script>\n",
              "        const buttonEl =\n",
              "          document.querySelector('#df-51ea83f0-4fe8-44f2-bf47-43bccc2889e7 button.colab-df-convert');\n",
              "        buttonEl.style.display =\n",
              "          google.colab.kernel.accessAllowed ? 'block' : 'none';\n",
              "\n",
              "        async function convertToInteractive(key) {\n",
              "          const element = document.querySelector('#df-51ea83f0-4fe8-44f2-bf47-43bccc2889e7');\n",
              "          const dataTable =\n",
              "            await google.colab.kernel.invokeFunction('convertToInteractive',\n",
              "                                                     [key], {});\n",
              "          if (!dataTable) return;\n",
              "\n",
              "          const docLinkHtml = 'Like what you see? Visit the ' +\n",
              "            '<a target=\"_blank\" href=https://colab.research.google.com/notebooks/data_table.ipynb>data table notebook</a>'\n",
              "            + ' to learn more about interactive tables.';\n",
              "          element.innerHTML = '';\n",
              "          dataTable['output_type'] = 'display_data';\n",
              "          await google.colab.output.renderOutput(dataTable, element);\n",
              "          const docLink = document.createElement('div');\n",
              "          docLink.innerHTML = docLinkHtml;\n",
              "          element.appendChild(docLink);\n",
              "        }\n",
              "      </script>\n",
              "    </div>\n",
              "  </div>\n",
              "  "
            ]
          },
          "metadata": {},
          "execution_count": 26
        }
      ]
    },
    {
      "cell_type": "markdown",
      "source": [
        "# Topic Modeling"
      ],
      "metadata": {
        "id": "I6ztLPMSuVe6"
      }
    },
    {
      "cell_type": "code",
      "source": [
        "datos_topic = datos.copy()\n",
        "datos_topic = datos_topic[datos_topic['flg_cat']!=97]\n",
        "print(datos_topic.shape)"
      ],
      "metadata": {
        "id": "Et5oQeRkCbc3"
      },
      "execution_count": null,
      "outputs": []
    },
    {
      "cell_type": "code",
      "source": [
        "train_corpus, test_corpus, train_label_nums, test_label_nums = train_test_split(\n",
        "    datos_topic['obs'], #np.array(datos['obs'])\n",
        "    datos_topic['target'], #np.array(datos['target'])\n",
        "    test_size=1/3, random_state=42)\n",
        "\n",
        "index_train_topic = train_corpus.index\n",
        "index_test_topic = test_corpus.index"
      ],
      "metadata": {
        "id": "PUOBSy9KAXuk"
      },
      "execution_count": null,
      "outputs": []
    },
    {
      "cell_type": "code",
      "source": [
        "train_corpus, test_corpus, train_label_nums, test_label_nums = train_test_split(\n",
        "    np.array(datos_topic['obs']), \n",
        "    np.array(datos_topic['flg_cat']),\n",
        "    test_size=1/3, random_state=42)"
      ],
      "metadata": {
        "id": "I6HS11YGBunE"
      },
      "execution_count": null,
      "outputs": []
    },
    {
      "cell_type": "code",
      "source": [
        "datos_topic.head(10)"
      ],
      "metadata": {
        "id": "spaoXTsXGQlF"
      },
      "execution_count": null,
      "outputs": []
    },
    {
      "cell_type": "code",
      "source": [
        "#norm_asigna = datos['obs']"
      ],
      "metadata": {
        "id": "l3kB-6H11jCK"
      },
      "execution_count": null,
      "outputs": []
    },
    {
      "cell_type": "code",
      "source": [
        "import nltk\n",
        "nltk.download('punkt')\n",
        "# Lista de oraciones de ejemplo"
      ],
      "metadata": {
        "id": "D4dk-WTbBArq"
      },
      "execution_count": null,
      "outputs": []
    },
    {
      "cell_type": "code",
      "source": [
        "# Tokenizar las oraciones\n",
        "text_tokens = [nltk.word_tokenize(sentence) for sentence in train_corpus]\n",
        "bigram_model = gensim.models.phrases.Phrases(text_tokens, min_count=1, threshold=1)\n",
        "#min_count (float, optional) – Ignore all words and bigrams with total collected count lower than this value.\n",
        "#threshold (float, optional) – Represent a score threshold for forming the phrases (higher means fewer phrases). \n",
        "#A phrase of words a followed by b is accepted if the score of the phrase is greater than threshold. Heavily depends on concrete scoring-function, \n",
        "#see the scoring parameter."
      ],
      "metadata": {
        "id": "LUk74RMABHjN"
      },
      "execution_count": null,
      "outputs": []
    },
    {
      "cell_type": "code",
      "source": [
        "norm_corpus_bigrams = [bigram_model[doc] for doc in text_tokens]\n",
        "\n",
        "# Create a dictionary representation of the documents.\n",
        "dictionary = gensim.corpora.Dictionary(norm_corpus_bigrams)\n",
        "print('Sample word to number mappings:', list(dictionary.items())[:100])\n",
        "print('Total Vocabulary Size:', len(dictionary))"
      ],
      "metadata": {
        "id": "x3QISFTKx6Hz"
      },
      "execution_count": null,
      "outputs": []
    },
    {
      "cell_type": "code",
      "source": [
        "# Transforming corpus into bag of words vectors\n",
        "bow_corpus = [dictionary.doc2bow(text) for text in norm_corpus_bigrams]"
      ],
      "metadata": {
        "id": "p7-mrKf5Jo06"
      },
      "execution_count": null,
      "outputs": []
    },
    {
      "cell_type": "code",
      "source": [
        "stoplist = stop_words_tablets\n",
        "documents = train_corpus\n",
        "texts = [\n",
        "    [word for word in document.lower().split() if word not in stoplist]\n",
        "    for document in documents\n",
        "]"
      ],
      "metadata": {
        "id": "Hjd_Yuhr_iRz"
      },
      "execution_count": null,
      "outputs": []
    },
    {
      "cell_type": "markdown",
      "source": [
        "Número óptimo de tópicos"
      ],
      "metadata": {
        "id": "alic8DuuvXs4"
      }
    },
    {
      "cell_type": "code",
      "source": [
        "from gensim.test.utils import common_corpus, common_dictionary\n",
        "from gensim.models.ldamodel import LdaModel\n",
        "from gensim.models.coherencemodel import CoherenceModel"
      ],
      "metadata": {
        "id": "BQ8yR_ttu0rd"
      },
      "execution_count": null,
      "outputs": []
    },
    {
      "cell_type": "code",
      "source": [
        "%%time\n",
        "min_topics = 15\n",
        "max_topics = 30\n",
        "\n",
        "# Definir una lista para almacenar los resultados\n",
        "coherence_scores = []\n",
        "models = []\n",
        "# Iterar sobre los números de tópicos y calcular la coherencia\n",
        "for num_topics in range(min_topics, max_topics + 1):\n",
        "\n",
        "    lda_model = gensim.models.LdaModel(corpus=bow_corpus, id2word=dictionary,\n",
        "                                   chunksize=1740, alpha='auto',\n",
        "                                   eta='auto', random_state=42,\n",
        "                                   iterations=500, num_topics=num_topics,\n",
        "                                   passes=20, eval_every=None)\n",
        "    \n",
        "    coherence_model = CoherenceModel(model=lda_model, texts=norm_corpus_bigrams, corpus=bow_corpus, coherence='c_v')\n",
        "    coherence_score = coherence_model.get_coherence()\n",
        "    coherence_scores.append((num_topics, coherence_score))\n",
        "    models.append(lda_model)\n",
        "\n",
        "# Crear un dataframe a partir de los resultados\n",
        "df = pd.DataFrame(coherence_scores, columns=['Número de Tópicos', 'Coherencia'])\n",
        "\n",
        "# Imprimir el dataframe\n",
        "print(df)"
      ],
      "metadata": {
        "id": "1HNP-s4PcTRg"
      },
      "execution_count": null,
      "outputs": []
    },
    {
      "cell_type": "code",
      "source": [
        "import matplotlib.pyplot as plt\n",
        "\n",
        "# Crear un gráfico de línea para los resultados\n",
        "plt.plot(df['Número de Tópicos'], df['Coherencia'], marker='o')\n",
        "\n",
        "# Añadir etiquetas y título al gráfico\n",
        "plt.xlabel('Número de Tópicos')\n",
        "plt.ylabel('Coherencia')\n",
        "plt.title('Relación entre el número de tópicos y la coherencia')\n",
        "\n",
        "# Mostrar el gráfico\n",
        "plt.show()"
      ],
      "metadata": {
        "id": "0vXFTYQx1fqK"
      },
      "execution_count": null,
      "outputs": []
    },
    {
      "cell_type": "markdown",
      "source": [
        "Obteniendo el máximo número de tópicos"
      ],
      "metadata": {
        "id": "PNE_49BN9j6_"
      }
    },
    {
      "cell_type": "code",
      "source": [
        "max_coherence_row = df.loc[df['Coherencia'].idxmax()]\n",
        "num_topics_max_coherence = max_coherence_row['Número de Tópicos']\n",
        "\n",
        "topn = 20\n",
        "opt_topic  = num_topics_max_coherence\n",
        "best_model_idx = df[df['Número de Tópicos'] == opt_topic].index[0]\n",
        "best_lda_model = models[best_model_idx]\n",
        "best_lda_model.num_topics"
      ],
      "metadata": {
        "id": "MbM17Pii7Kyq"
      },
      "execution_count": null,
      "outputs": []
    },
    {
      "cell_type": "code",
      "source": [
        "for topic_id, topic in best_lda_model.print_topics(num_topics=opt_topic, num_words=topn):\n",
        "  print('Topic #'+str(topic_id+1)+':')\n",
        "  print(topic)\n",
        "  print()"
      ],
      "metadata": {
        "id": "ZPurLzGldJna"
      },
      "execution_count": null,
      "outputs": []
    },
    {
      "cell_type": "code",
      "source": [
        "topics = [[(term, round(wt, 3)) \n",
        "               for term, wt in best_lda_model.show_topic(n, topn=topn)] \n",
        "                   for n in range(0, best_lda_model.num_topics)]\n",
        "\n",
        "for idx, topic in enumerate(topics):\n",
        "    print('Topic #'+str(idx+1)+':')\n",
        "    print([term for term, wt in topic])\n",
        "    print()"
      ],
      "metadata": {
        "id": "HNhnWYao8IiJ"
      },
      "execution_count": null,
      "outputs": []
    },
    {
      "cell_type": "code",
      "source": [
        "topics_df = pd.DataFrame([[term for term, wt in topic] for topic in topics], \n",
        "                         columns = ['Term'+str(i) for i in range(1, topn+1)],\n",
        "                         index=['Topic '+str(t) for t in range(1, best_lda_model.num_topics+1)]).T\n",
        "topics_df                                                         "
      ],
      "metadata": {
        "id": "n0nRTt3O3AA7"
      },
      "execution_count": null,
      "outputs": []
    },
    {
      "cell_type": "code",
      "source": [
        "pd.set_option('display.max_colwidth', -1)\n",
        "topics_df = pd.DataFrame([', '.join([term for term, wt in topic])  \n",
        "                              for topic in topics],\n",
        "                         columns = ['Terms per Topic'],\n",
        "                         index=['Topic'+str(t) for t in range(1, best_lda_model.num_topics+1)]\n",
        "                         )\n",
        "topics_df"
      ],
      "metadata": {
        "id": "Xhu3wL4Z1Txi"
      },
      "execution_count": null,
      "outputs": []
    },
    {
      "cell_type": "markdown",
      "source": [
        "Se genera el siguiente prompt en GPT y se redactáron las siguientes categorías\n",
        "\n",
        "En un proyecto de distribución a tabletas se registráron los comentarios de directores de escuelas sobre la recepción de las tabletas.\n",
        "Los tópicos generados son:\n",
        "\n",
        "Redacta oraciones que resuman cada tópico.\n"
      ],
      "metadata": {
        "id": "6X6kz_s4BQq5"
      }
    },
    {
      "cell_type": "markdown",
      "source": [
        "Topic 1: Falta de tabletas, traslado y configuración.\n",
        "\n",
        "Topic 2: Entrega de tabletas y distribución en zonas rurales.\n",
        "\n",
        "Topic 3: Recepción de tabletas y programación escolar.\n",
        "\n",
        "Topic 4: Problemas de entrega, verificación y observaciones sobre \n",
        "funcionamiento.\n",
        "\n",
        "Topic 5: Cantidad de tabletas, necesidades de matriculados y problemas con cargadores solares.\n",
        "\n",
        "Topic 6: Problemas de encendido, acceso y plan de datos.\n",
        "\n",
        "Topic 7: Falta de entrega, identificación de beneficiarios y registro.\n",
        "\n",
        "Topic 8: Problemas de chips y falta de funcionamiento de tabletas.\n",
        "\n",
        "Topic 9: Errores en dispositivos, necesidad de actualización y problema de conectividad.\n",
        "\n",
        "Topic 10: Recepción de tabletas, necesidad de cargadores solares y devolución de dispositivos.\n",
        "\n",
        "Topic 11: Problemas técnicos de tabletas, caso de San y redistribución de dispositivos.\n",
        "\n",
        "Topic 12: Falta de cargadores solares y encendido de tabletas.\n",
        "\n",
        "Topic 13: Asignación de tabletas, nivel educativo y falta de conectividad.\n",
        "\n",
        "Topic 14: Fecha de entrega de tabletas, asignación y lista de beneficiarios.\n",
        "\n",
        "Topic 15: Entrega y recepción de tabletas, verificación de contenido y sistema de registro.\n",
        "\n",
        "Topic 16: Problemas técnicos de tabletas y falta de plan de datos y cargadores solares.\n",
        "\n",
        "Topic 17: Falta de chips, tercer par y entrega de dispositivos.\n",
        "\n",
        "\n",
        "Topic 18: Falta de cargadores solares y problema de energía eléctrica.\n",
        "\n",
        "Topic 19: Cantidad de tabletas y asignación a matriculados.\n",
        "\n",
        "Topic 20: Entrega de tabletas y asignación de operadores y direcciones.\n",
        "\n",
        "Topic 21: Falta de entregas e insuficiencia de cargadores solares.\n",
        "\n",
        "Topic 22: Falta de entrega de tabletas y ubicación de las mismas.\n",
        "\n",
        "Topic 23: Recepción de tabletas, cargadores solares, falta de fluido eléctrico y verificación."
      ],
      "metadata": {
        "id": "Y-oavPVJBbFR"
      }
    },
    {
      "cell_type": "code",
      "source": [
        "tm_results = best_lda_model[bow_corpus]\n",
        "corpus_topics = [sorted(topics, key=lambda record: -record[1])[0] \n",
        "                     for topics in tm_results]"
      ],
      "metadata": {
        "id": "5wLyIz5VBZ74"
      },
      "execution_count": null,
      "outputs": []
    },
    {
      "cell_type": "code",
      "source": [
        "corpus_topic_df = pd.DataFrame()\n",
        "corpus_topic_df['Document'] = range(0, len(norm_corpus_bigrams))\n",
        "corpus_topic_df['Dominant Topic'] = [item[0]+1 for item in corpus_topics]\n",
        "corpus_topic_df['Contribution %'] = [round(item[1]*100, 2) for item in corpus_topics]\n",
        "corpus_topic_df['Topic Desc'] = [topics_df.iloc[t[0]]['Terms per Topic'] for t in corpus_topics]\n",
        "corpus_topic_df['Paper'] = norm_corpus_bigrams\n",
        "\n"
      ],
      "metadata": {
        "id": "pvicWBSPByGo"
      },
      "execution_count": null,
      "outputs": []
    },
    {
      "cell_type": "code",
      "source": [
        "#corpus_topic_df['Dominant Topic'].value_counts()\n",
        "#pd.isnull(corpus_topic_df['Dominant Topic']).sum()\n",
        "print(len(corpus_topic_df['Dominant Topic']))\n",
        "print(len(index_train_topic))"
      ],
      "metadata": {
        "id": "sM_7RakrP5VB"
      },
      "execution_count": null,
      "outputs": []
    },
    {
      "cell_type": "markdown",
      "source": [
        "## Fit Topic"
      ],
      "metadata": {
        "id": "We6EK19LLx9s"
      }
    },
    {
      "cell_type": "code",
      "source": [
        "data_topic_fit = datos.iloc[index_train_topic]\n",
        "data_topic_fit['obs'] = train_corpus\n",
        "#data_topic_fit['Target_2'] = train_label_nums\n",
        "data_topic_fit['Topic'] = corpus_topic_df['Dominant Topic']\n",
        "#pd.crosstab(data_topic_fit['Topic'],data_topic_fit['Target_2'])"
      ],
      "metadata": {
        "id": "G32vy-bxDPAj"
      },
      "execution_count": null,
      "outputs": []
    },
    {
      "cell_type": "code",
      "source": [
        "data_topic_fit.head(10)"
      ],
      "metadata": {
        "id": "kbewB-3wPI-R"
      },
      "execution_count": null,
      "outputs": []
    },
    {
      "cell_type": "code",
      "source": [
        "#datos_comp['Topic'] = np.where((datos_comp.OBSERVACION_RECEPCION.str.contains('(?i)(fal|solo|mal estado|malog)')) & (datos_comp['Topic']==10),5,datos_comp['Topic'])\n",
        "#datos_comp['Topic'] = np.where((datos_comp.OBSERVACION_RECEPCION.str.contains('(?i)(ning)(.+)(obs|noved)(.+)')),10,datos_comp['Topic'])\n",
        "#datos_comp['Topic'] = np.where((datos_comp.OBSERVACION_RECEPCION.str.contains('(?i)(no hay observ)(.+)')),10,datos_comp['Topic'])\n",
        "#datos_comp['Topic'] = np.where((datos_comp.OBSERVACION_RECEPCION.str.contains('(?i)(buen)(.+)(estado)(.+)')) &\n",
        "#                               (datos_comp.OBSERVACION_RECEPCION.str.contains('(?i)(no|devol|sin|falt|falla|pero|malograda)')==False),\n",
        "#                               10,datos_comp['Topic'])"
      ],
      "metadata": {
        "id": "JzKPwka9JfwN"
      },
      "execution_count": null,
      "outputs": []
    },
    {
      "cell_type": "code",
      "source": [
        "temp_analisis = data_topic_fit[((data_topic_fit['Topic']==1)) & (data_topic_fit['Target_2']==3)]\n",
        "temp_analisis.iloc[:30]"
      ],
      "metadata": {
        "id": "E72joXo7a2Fe"
      },
      "execution_count": null,
      "outputs": []
    },
    {
      "cell_type": "code",
      "source": [],
      "metadata": {
        "id": "Z5uo1o6YOJFo"
      },
      "execution_count": null,
      "outputs": []
    },
    {
      "cell_type": "code",
      "source": [
        "temp"
      ],
      "metadata": {
        "id": "ewT4CyhiOdwx"
      },
      "execution_count": null,
      "outputs": []
    },
    {
      "cell_type": "code",
      "source": [
        "temp_export_dir = '/content/drive/MyDrive/dgavidia_minedu/BD USE/NLP/data_topic_fit.xlsx'\n",
        "data_topic_fit.to_excel(temp_export_dir)"
      ],
      "metadata": {
        "id": "tUEBw0M5TXOb"
      },
      "execution_count": null,
      "outputs": []
    },
    {
      "cell_type": "code",
      "source": [
        "datos.shape"
      ],
      "metadata": {
        "id": "1InDvMKjJk8k"
      },
      "execution_count": null,
      "outputs": []
    }
  ]
}